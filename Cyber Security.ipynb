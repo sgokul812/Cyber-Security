{
 "cells": [
  {
   "cell_type": "code",
   "execution_count": null,
   "id": "224e4e4b-b994-4f9f-b2b8-8a8507f113f2",
   "metadata": {},
   "outputs": [],
   "source": [
    "# Import necessary libraries\n",
    "import pandas as pd\n",
    "import numpy as np\n",
    "import matplotlib.pyplot as plt\n",
    "import seaborn as sns\n",
    "from sklearn.model_selection import train_test_split, StratifiedKFold, cross_val_score\n",
    "from sklearn.metrics import classification_report, confusion_matrix, f1_score, precision_score, recall_score\n",
    "from sklearn.tree import DecisionTreeClassifier\n",
    "from sklearn.linear_model import LogisticRegression\n",
    "from sklearn.ensemble import RandomForestClassifier\n",
    "from imblearn.over_sampling import SMOTE\n",
    "from sklearn.preprocessing import StandardScaler, LabelEncoder\n",
    "import warnings\n",
    "warnings.filterwarnings(\"ignore\")"
   ]
  },
  {
   "cell_type": "code",
   "execution_count": null,
   "id": "d3c2d861-6615-4e0b-9899-573939205ede",
   "metadata": {},
   "outputs": [],
   "source": [
    "# 1. Load and inspect the data\n",
    "file_path = r\"C:\\Users\\Vettri\\Downloads\\CS\\Data\\new_train_sample.csv\"  # File path for training data\n",
    "df = pd.read_csv(file_path)"
   ]
  },
  {
   "cell_type": "code",
   "execution_count": null,
   "id": "d7e0491a-386c-4cf9-a550-f166e0767c85",
   "metadata": {},
   "outputs": [],
   "source": [
    "# Dropping the Timestamp column\n",
    "df = df.drop(columns=['Timestamp'], errors='ignore')"
   ]
  },
  {
   "cell_type": "code",
   "execution_count": null,
   "id": "cf90be03-cdc0-4f09-9b8a-7843261447d6",
   "metadata": {},
   "outputs": [],
   "source": [
    "# Understanding data\n",
    "print(\"Dataset Shape:\", df.shape)\n",
    "print(\"\\nFirst few rows of the dataset:\")\n",
    "print(df.head())\n",
    "print(\"\\nData Summary:\")\n",
    "print(df.info())"
   ]
  },
  {
   "cell_type": "code",
   "execution_count": null,
   "id": "e8dbfae1-76f5-47ff-963f-74c1a7bd1675",
   "metadata": {},
   "outputs": [],
   "source": [
    "# Target Variable Distribution\n",
    "target_column = 'IncidentGrade'\n",
    "print(\"\\nTarget Distribution:\")\n",
    "print(df[target_column].value_counts())\n",
    "sns.countplot(x=target_column, data=df)\n",
    "plt.title('Target Variable Distribution')\n",
    "plt.show()"
   ]
  },
  {
   "cell_type": "code",
   "execution_count": null,
   "id": "de7d125d-0bf2-442b-9c55-93ea1183717b",
   "metadata": {},
   "outputs": [],
   "source": [
    "# 2. Exploratory Data Analysis (EDA)\n",
    "# Check for missing values\n",
    "missing_percentage = df.isnull().sum() / len(df) * 100\n",
    "print(\"\\nMissing Values Percentage per Column:\")\n",
    "print(missing_percentage)\n",
    "\n",
    "# Identify columns to drop based on missing value thresholds\n",
    "drop_columns = missing_percentage[missing_percentage > 50].index\n",
    "drop_columns_less_than_5 = missing_percentage[missing_percentage < 5].index\n",
    "\n",
    "# Drop columns with more than 50% missing values\n",
    "df.drop(columns=drop_columns, inplace=True)\n",
    "\n",
    "# Keep columns with less than 5% missing values and impute the remaining\n",
    "columns_to_impute = df.columns.difference(drop_columns_less_than_5)\n",
    "for col in columns_to_impute:\n",
    "    if df[col].dtype == 'object':  # Categorical\n",
    "        df[col].fillna(df[col].mode()[0], inplace=True)\n",
    "    else:  # Numeric\n",
    "        df[col].fillna(df[col].median(), inplace=True)\n",
    "\n",
    "# Summary of missing data handling\n",
    "print(f\"\\nColumns dropped (more than 50% missing): {drop_columns}\")\n",
    "print(f\"\\nColumns kept (with missing data < 50% and > 5%): {columns_to_impute}\")\n",
    "\n",
    "# Summary Statistics\n",
    "print(\"\\nSummary Statistics:\")\n",
    "print(df.describe())"
   ]
  },
  {
   "cell_type": "code",
   "execution_count": null,
   "id": "6807676c-f13d-4cf5-97de-9cd02ee83294",
   "metadata": {},
   "outputs": [],
   "source": [
    "# 3. Data Preprocessing\n",
    "# (a) Encoding Categorical Variables\n",
    "le_target = LabelEncoder()\n",
    "df[target_column] = le_target.fit_transform(df[target_column])\n",
    "\n",
    "# Encode other categorical columns\n",
    "for col in df.select_dtypes(include=['object']).columns:\n",
    "    if col != target_column:\n",
    "        le = LabelEncoder()\n",
    "        df[col] = le.fit_transform(df[col])\n",
    "\n",
    "# (b) Feature Scaling (optional for certain models)\n",
    "scaler = StandardScaler()\n",
    "\n",
    "# Ensure only numeric columns are selected for scaling\n",
    "num_cols = df.select_dtypes(include=['int64', 'float64']).columns\n",
    "num_cols = [col for col in num_cols if df[col].dtype in ['int64', 'float64']]  # Double check numeric columns\n",
    "\n",
    "# Scale only numeric columns\n",
    "df[num_cols] = scaler.fit_transform(df[num_cols])"
   ]
  },
  {
   "cell_type": "code",
   "execution_count": null,
   "id": "80ae0888-bec3-48f2-b234-f0c52c9de1fe",
   "metadata": {},
   "outputs": [],
   "source": [
    "# 4. Data Splitting\n",
    "X = df.drop(target_column, axis=1)\n",
    "y = df[target_column]\n",
    "\n",
    "# Stratified Train-Test Split\n",
    "X_train, X_test, y_train, y_test = train_test_split(X, y, test_size=0.3, stratify=y, random_state=42)"
   ]
  },
  {
   "cell_type": "code",
   "execution_count": null,
   "id": "45e7d9b5-31ca-4fb3-aee0-b795351cea2f",
   "metadata": {},
   "outputs": [],
   "source": [
    "# 5. Handle Class Imbalance using SMOTE\n",
    "smote = SMOTE(random_state=42)\n",
    "X_train_resampled, y_train_resampled = smote.fit_resample(X_train, y_train)\n",
    "\n",
    "# Check distribution after SMOTE\n",
    "print(\"\\nTarget Distribution After SMOTE:\")\n",
    "print(pd.Series(y_train_resampled).value_counts())"
   ]
  },
  {
   "cell_type": "code",
   "execution_count": null,
   "id": "843825d9-892f-438c-83c5-0936c2a88ca1",
   "metadata": {},
   "outputs": [],
   "source": [
    "# 6. Model Selection and Training\n",
    "models = {\n",
    "    \"Decision Tree\": DecisionTreeClassifier(random_state=42),\n",
    "    \"Logistic Regression\": LogisticRegression(max_iter=1000, random_state=42),\n",
    "    \"Random Forest\": RandomForestClassifier(n_estimators=100, random_state=42)\n",
    "}\n",
    "\n",
    "# Train and Evaluate Models\n",
    "for name, model in models.items():\n",
    "    print(f\"\\nTraining {name}...\")\n",
    "    model.fit(X_train_resampled, y_train_resampled)\n",
    "    y_pred = model.predict(X_test)\n",
    "\n",
    "    # Evaluation Metrics\n",
    "    print(f\"\\n{name} Performance Metrics:\")\n",
    "    print(confusion_matrix(y_test, y_pred))\n",
    "    print(classification_report(y_test, y_pred))\n",
    "    print(\"Macro F1 Score:\", f1_score(y_test, y_pred, average='macro'))\n",
    "    print(\"Precision:\", precision_score(y_test, y_pred, average='macro'))\n",
    "    print(\"Recall:\", recall_score(y_test, y_pred, average='macro'))\n"
   ]
  },
  {
   "cell_type": "code",
   "execution_count": null,
   "id": "0fc5cbd5-ba29-4286-8674-ec62f2070d06",
   "metadata": {},
   "outputs": [],
   "source": [
    "# 7. Feature Importance (for Random Forest)\n",
    "rf_model = models['Random Forest']\n",
    "feature_importances = pd.DataFrame({\n",
    "    'Feature': X.columns,\n",
    "    'Importance': rf_model.feature_importances_\n",
    "}).sort_values(by='Importance', ascending=False)\n",
    "\n",
    "print(\"\\nRandom Forest Feature Importances:\")\n",
    "print(feature_importances)"
   ]
  },
  {
   "cell_type": "code",
   "execution_count": null,
   "id": "66a3c4f9-4d1f-4920-b971-06fae54393fe",
   "metadata": {},
   "outputs": [],
   "source": [
    "# 8. Cross-Validation\n",
    "cv = StratifiedKFold(n_splits=5, shuffle=True, random_state=42)\n",
    "for name, model in models.items():\n",
    "    scores = cross_val_score(model, X_train_resampled, y_train_resampled, cv=cv, scoring='f1_macro')\n",
    "    print(f\"\\nCross-Validation Macro F1 Scores for {name}:\")\n",
    "    print(scores)\n",
    "    print(\"Mean F1 Score:\", scores.mean())\n",
    "\n",
    "# **Test the models on the test dataset**\n",
    "# Load the test dataset\n",
    "test_file_path = r\"C:\\Users\\Vettri\\Downloads\\CS\\Data\\GUIDE_Test.csv\"  # Test file path\n",
    "test_df = pd.read_csv(test_file_path)\n",
    "\n",
    "# Preprocess test dataset (similar to the train dataset)\n",
    "# Drop the Timestamp column if present\n",
    "test_df = test_df.drop(columns=['Timestamp'], errors='ignore')\n",
    "\n",
    "# Handle missing data in the test dataset\n",
    "missing_percentage_test = test_df.isnull().sum() / len(test_df) * 100\n",
    "drop_columns_test = missing_percentage_test[missing_percentage_test > 50].index\n",
    "drop_columns_less_than_5_test = missing_percentage_test[missing_percentage_test < 5].index\n",
    "\n",
    "# Drop columns with more than 50% missing values in test dataset\n",
    "test_df.drop(columns=drop_columns_test, inplace=True)\n",
    "\n",
    "# Keep columns with less than 5% missing values and impute the remaining\n",
    "columns_to_impute_t = test_df.columns.difference(drop_columns_less_than_5_test)\n",
    "for col in columns_to_impute_t:\n",
    "    if test_df[col].dtype == 'object':  # Categorical\n",
    "        test_df[col].fillna(test_df[col].mode()[0], inplace=True)\n",
    "    else:  # Numeric\n",
    "        test_df[col].fillna(test_df[col].median(), inplace=True)\n",
    "\n",
    "# Encoding categorical variables in the test dataset (same as train dataset)\n",
    "for col in test_df.select_dtypes(include=['object']).columns:\n",
    "    le = LabelEncoder()\n",
    "    test_df[col] = le.fit_transform(test_df[col])\n",
    "\n",
    "# Feature scaling for test data\n",
    "test_df[num_cols] = scaler.transform(test_df[num_cols])\n",
    "\n",
    "# Prepare the test data for prediction\n",
    "X_test_final = test_df.drop(target_column, axis=1)\n",
    "y_test_final = test_df[target_column]\n",
    "\n",
    "# Evaluate each model on the test set\n",
    "for name, model in models.items():\n",
    "    print(f\"\\nTesting {name} on the test dataset...\")\n",
    "    y_pred_test = model.predict(X_test_final)\n",
    "\n",
    "    # Evaluation Metrics on Test Set\n",
    "    print(f\"\\n{name} Test Performance Metrics:\")\n",
    "    print(confusion_matrix(y_test_final, y_pred_test))\n",
    "    print(classification_report(y_test_final, y_pred_test))\n",
    "    print(\"Macro F1 Score:\", f1_score(y_test_final, y_pred_test, average='macro'))\n",
    "    print(\"Precision:\", precision_score(y_test_final, y_pred_test, average='macro'))\n",
    "    print(\"Recall:\", recall_score(y_test_final, y_pred_test, average='macro'))\n"
   ]
  },
  {
   "cell_type": "markdown",
   "id": "e988a8f9-31cc-46a5-b4a9-e71ecb359965",
   "metadata": {},
   "source": []
  },
  {
   "cell_type": "code",
   "execution_count": null,
   "id": "2d82cc7d-587d-4a20-9f59-7ebc9aa0f990",
   "metadata": {},
   "outputs": [],
   "source": []
  },
  {
   "cell_type": "code",
   "execution_count": null,
   "id": "8fe68ce5-6f67-4ad9-93fd-bf063fb80703",
   "metadata": {},
   "outputs": [],
   "source": []
  },
  {
   "cell_type": "code",
   "execution_count": null,
   "id": "abcbab41-0c82-44ec-b24a-ba2a98d3897c",
   "metadata": {},
   "outputs": [],
   "source": []
  },
  {
   "cell_type": "code",
   "execution_count": null,
   "id": "7d738b7d-808c-4a6a-bc44-bd8bd320a0cd",
   "metadata": {},
   "outputs": [],
   "source": []
  },
  {
   "cell_type": "code",
   "execution_count": null,
   "id": "a6114d7b-5393-46a4-ace1-7bd2cd3941bb",
   "metadata": {},
   "outputs": [],
   "source": []
  },
  {
   "cell_type": "code",
   "execution_count": null,
   "id": "5aa962d1-b806-43ed-9c73-f7105c40ac04",
   "metadata": {},
   "outputs": [],
   "source": []
  }
 ],
 "metadata": {
  "kernelspec": {
   "display_name": "Python 3 (ipykernel)",
   "language": "python",
   "name": "python3"
  },
  "language_info": {
   "codemirror_mode": {
    "name": "ipython",
    "version": 3
   },
   "file_extension": ".py",
   "mimetype": "text/x-python",
   "name": "python",
   "nbconvert_exporter": "python",
   "pygments_lexer": "ipython3",
   "version": "3.12.7"
  }
 },
 "nbformat": 4,
 "nbformat_minor": 5
}
